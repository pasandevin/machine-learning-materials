{
 "cells": [
  {
   "cell_type": "markdown",
   "metadata": {},
   "source": [
    "# Lists"
   ]
  },
  {
   "cell_type": "code",
   "execution_count": 3,
   "metadata": {},
   "outputs": [
    {
     "name": "stdout",
     "output_type": "stream",
     "text": [
      "[11, 42, 15]\n",
      "[11, 42, 15]\n",
      "[64, 80, 32, 12]\n",
      "[15, 64, 80]\n"
     ]
    }
   ],
   "source": [
    "myList=[11,42,15,64,80,32,12]   #creating a list of the same data type\n",
    "\n",
    "print(myList[0:3])              #printing items from zero to three\n",
    "print(myList[:3])               #printing items from zero to three\n",
    "print(myList[3:])               #printing items from three to last\n",
    "print(myList[2:5])              #printing items from two to five"
   ]
  },
  {
   "cell_type": "code",
   "execution_count": 4,
   "metadata": {},
   "outputs": [
    {
     "name": "stdout",
     "output_type": "stream",
     "text": [
      "[10, 12.5, 'H', 'Hello']\n",
      "10\n",
      "12.5\n"
     ]
    }
   ],
   "source": [
    "myList=[10,12.5,'H',\"Hello\"]  #Creating a list of different data types\n",
    "print(myList)                 #printing the whole list\n",
    "print(myList[0])              #printing the 0th indexed item of the list\n",
    "print(myList[1])              #printing the 1st indexed item of the list"
   ]
  },
  {
   "cell_type": "code",
   "execution_count": 6,
   "metadata": {},
   "outputs": [
    {
     "name": "stdout",
     "output_type": "stream",
     "text": [
      "Value available at index 2 :  2020\n",
      "New value available at index 2 :  2001\n"
     ]
    }
   ],
   "source": [
    "myList = ['Maths', 'Science', 2020, 2021]\n",
    "print (\"Value available at index 2 : \", myList[2])\n",
    "\n",
    "myList[2] = 2001   #Assigning new value to the index:2\n",
    "print (\"New value available at index 2 : \", myList[2])"
   ]
  },
  {
   "cell_type": "code",
   "execution_count": 15,
   "metadata": {},
   "outputs": [
    {
     "name": "stdout",
     "output_type": "stream",
     "text": [
      "Initial list                     :  ['Maths', 'Science', 2020, 2021]\n",
      "After deleting value at index 2  :  ['Maths', 'Science', 2021]\n"
     ]
    }
   ],
   "source": [
    "myList = ['Maths', 'Science', 2020, 2021]\n",
    "print (\"Initial list                     : \",myList)\n",
    "\n",
    "del myList[2]\n",
    "print (\"After deleting value at index 2  : \", myList)"
   ]
  },
  {
   "cell_type": "code",
   "execution_count": 17,
   "metadata": {},
   "outputs": [
    {
     "name": "stdout",
     "output_type": "stream",
     "text": [
      "Length of the list     :  7\n",
      "Maximum value element  :  80\n",
      "Minimum value element  :  11\n",
      "Sum of the list values :  256\n"
     ]
    }
   ],
   "source": [
    "myList=[11,42,15,64,80,32,12]\n",
    "print (\"Length of the list     : \", len(myList))\n",
    "print (\"Maximum value element  : \", max(myList))\n",
    "print (\"Minimum value element  : \", min(myList))\n",
    "print (\"Sum of the list values : \", sum(myList))"
   ]
  },
  {
   "cell_type": "code",
   "execution_count": 32,
   "metadata": {},
   "outputs": [
    {
     "name": "stdout",
     "output_type": "stream",
     "text": [
      "Initial list  :  [11, 42, 15, 64, 80, 32, 12, 42]\n",
      "updated list  :  [11, 42, 15, 64, 80, 32, 12, 42, 50]\n",
      "Count for 42  :  2\n",
      "Index of 15   :  2\n",
      "Extended List :  [11, 42, 15, 64, 80, 32, 12, 42, 50, 5, 10, 15]\n"
     ]
    }
   ],
   "source": [
    "myList=[11,42,15,64,80,32,12,42]\n",
    "print (\"Initial list  : \",myList)             #Original List\n",
    "\n",
    "myList.append(50)                             #Appending the value 50 to the end of the list\n",
    "print (\"updated list  : \", myList)            #Printing the list after appending the value\n",
    "\n",
    "print (\"Count for 42  : \", myList.count(42))  #Printing the no of times 42 appears\n",
    "\n",
    "print ('Index of 15   : ', myList.index(15))  #Printing the index of the value 15\n",
    "\n",
    "list2 = [5,10,15]                             #Creating a second list\n",
    "myList.extend(list2)                          #Appending the second list to the first list\n",
    "print ('Extended List : ', myList)"
   ]
  },
  {
   "cell_type": "markdown",
   "metadata": {},
   "source": [
    "# Tuples"
   ]
  },
  {
   "cell_type": "code",
   "execution_count": 36,
   "metadata": {},
   "outputs": [
    {
     "name": "stdout",
     "output_type": "stream",
     "text": [
      "tup1[0]   :  Maths\n",
      "tup2[1:5] :  ('b', 'c', 'd')\n"
     ]
    }
   ],
   "source": [
    "tup1 = ('Maths', 'Science', 2020, 2021)       #Creating a python tuple with parentheses\n",
    "tup2 = \"a\", \"b\", \"c\", \"d\"                     #Creating a python tuple without parentheses\n",
    "\n",
    "print (\"tup1[0]   : \", tup1[0])               #Printing the 0th indexed value\n",
    "print (\"tup2[1:5] : \", tup2[1:5])             #Printing the values from one to five"
   ]
  },
  {
   "cell_type": "code",
   "execution_count": 46,
   "metadata": {},
   "outputs": [
    {
     "ename": "TypeError",
     "evalue": "'tuple' object does not support item assignment",
     "output_type": "error",
     "traceback": [
      "\u001b[1;31m---------------------------------------------------------------------------\u001b[0m",
      "\u001b[1;31mTypeError\u001b[0m                                 Traceback (most recent call last)",
      "\u001b[1;32m<ipython-input-46-75a82d51e84d>\u001b[0m in \u001b[0;36m<module>\u001b[1;34m\u001b[0m\n\u001b[0;32m      2\u001b[0m \u001b[1;33m\u001b[0m\u001b[0m\n\u001b[0;32m      3\u001b[0m \u001b[1;31m# Following action is not valid for tuples\u001b[0m\u001b[1;33m\u001b[0m\u001b[1;33m\u001b[0m\u001b[1;33m\u001b[0m\u001b[0m\n\u001b[1;32m----> 4\u001b[1;33m \u001b[0mmyTuple\u001b[0m\u001b[1;33m[\u001b[0m\u001b[1;36m0\u001b[0m\u001b[1;33m]\u001b[0m \u001b[1;33m=\u001b[0m \u001b[1;36m100\u001b[0m\u001b[1;33m\u001b[0m\u001b[1;33m\u001b[0m\u001b[0m\n\u001b[0m",
      "\u001b[1;31mTypeError\u001b[0m: 'tuple' object does not support item assignment"
     ]
    }
   ],
   "source": [
    "myTuple = (11,42,15,64,80,32,12)\n",
    "\n",
    "# Following action is not valid for tuples\n",
    "myTuple[0] = 100"
   ]
  },
  {
   "cell_type": "code",
   "execution_count": 47,
   "metadata": {},
   "outputs": [
    {
     "name": "stdout",
     "output_type": "stream",
     "text": [
      "80\n",
      "7\n"
     ]
    }
   ],
   "source": [
    "myTuple = (11,42,15,64,80,32,12)\n",
    "print(max(myTuple))               #printing the max value of the tuple\n",
    "print(len(myTuple))               #printing the length of the tuple"
   ]
  },
  {
   "cell_type": "code",
   "execution_count": 51,
   "metadata": {},
   "outputs": [
    {
     "name": "stdout",
     "output_type": "stream",
     "text": [
      "[11, 42, 15, 64, 80, 32, 12]\n",
      "[20, 42, 15, 64, 80, 32, 12, 100]\n"
     ]
    }
   ],
   "source": [
    "myTuple = (11,42,15,64,80,32,12)\n",
    "\n",
    "myList=list(myTuple)             #Converting tuple into a list\n",
    "print(myList)                    #Print the initial list\n",
    "\n",
    "myList.append(100)               #Appending the value 100 to the list\n",
    "myList[0]=20                     #Assign 20 as the 0th indexed value\n",
    "print(myList)                     #Print the changed list"
   ]
  },
  {
   "cell_type": "markdown",
   "metadata": {},
   "source": [
    "# Dictionaries"
   ]
  },
  {
   "cell_type": "code",
   "execution_count": 57,
   "metadata": {},
   "outputs": [
    {
     "name": "stdout",
     "output_type": "stream",
     "text": [
      "John\n"
     ]
    }
   ],
   "source": [
    "Student={'name':'John','maths':82,'phy':88,'chem':92,'english':80}\n",
    "\n",
    "print(Student['name'])     #Printing the value of the key:name"
   ]
  },
  {
   "cell_type": "code",
   "execution_count": 58,
   "metadata": {},
   "outputs": [
    {
     "name": "stdout",
     "output_type": "stream",
     "text": [
      "Original dictionary      :  {'name': 'John', 'maths': 82, 'phy': 88, 'chem': 92, 'english': 80}\n",
      "After changing the value :  {'name': 'William', 'maths': 82, 'phy': 88, 'chem': 92, 'english': 80}\n"
     ]
    }
   ],
   "source": [
    "Student={'name':'John','maths':82,'phy':88,'chem':92,'english':80}\n",
    "print('Original dictionary      : ',Student)\n",
    "\n",
    "Student['name']='William'                       #Changing the value for the key:name\n",
    "print('After changing the value : ',Student)"
   ]
  },
  {
   "cell_type": "code",
   "execution_count": 61,
   "metadata": {},
   "outputs": [
    {
     "name": "stdout",
     "output_type": "stream",
     "text": [
      "myDict['Name']:  William\n"
     ]
    }
   ],
   "source": [
    "myDict = {'Name': 'John', 'Age': 20, 'Name': 'William'}\n",
    "print (\"myDict['Name']: \", myDict['Name'])       "
   ]
  },
  {
   "cell_type": "code",
   "execution_count": 62,
   "metadata": {},
   "outputs": [
    {
     "ename": "TypeError",
     "evalue": "unhashable type: 'list'",
     "output_type": "error",
     "traceback": [
      "\u001b[1;31m---------------------------------------------------------------------------\u001b[0m",
      "\u001b[1;31mTypeError\u001b[0m                                 Traceback (most recent call last)",
      "\u001b[1;32m<ipython-input-62-fcee407f082c>\u001b[0m in \u001b[0;36m<module>\u001b[1;34m\u001b[0m\n\u001b[1;32m----> 1\u001b[1;33m \u001b[0mmyDict\u001b[0m \u001b[1;33m=\u001b[0m \u001b[1;33m{\u001b[0m\u001b[1;33m[\u001b[0m\u001b[1;34m'Name'\u001b[0m\u001b[1;33m]\u001b[0m\u001b[1;33m:\u001b[0m \u001b[1;34m'John'\u001b[0m\u001b[1;33m,\u001b[0m \u001b[1;34m'Age'\u001b[0m\u001b[1;33m:\u001b[0m \u001b[1;36m20\u001b[0m\u001b[1;33m}\u001b[0m\u001b[1;33m\u001b[0m\u001b[1;33m\u001b[0m\u001b[0m\n\u001b[0m\u001b[0;32m      2\u001b[0m \u001b[0mprint\u001b[0m \u001b[1;33m(\u001b[0m\u001b[1;34m\"dict['Name']: \"\u001b[0m\u001b[1;33m,\u001b[0m \u001b[0mmyDict\u001b[0m\u001b[1;33m[\u001b[0m\u001b[1;34m'Name'\u001b[0m\u001b[1;33m]\u001b[0m\u001b[1;33m)\u001b[0m\u001b[1;33m\u001b[0m\u001b[1;33m\u001b[0m\u001b[0m\n",
      "\u001b[1;31mTypeError\u001b[0m: unhashable type: 'list'"
     ]
    }
   ],
   "source": [
    "myDict = {['Name']: 'John', 'Age': 20}\n",
    "print (\"dict['Name']: \", myDict['Name'])"
   ]
  },
  {
   "cell_type": "code",
   "execution_count": 66,
   "metadata": {},
   "outputs": [
    {
     "name": "stdout",
     "output_type": "stream",
     "text": [
      "Length of the dict  :  5\n",
      "Copied Dictionary   :  {'name': 'John', 'maths': 82, 'phy': 88, 'chem': 92, 'english': 80}\n",
      "Dictionary keys     :  dict_keys(['name', 'maths', 'phy', 'chem', 'english'])\n",
      "Dictionary values   :  dict_values(['John', 82, 88, 92, 80])\n"
     ]
    }
   ],
   "source": [
    "myDict={'name':'John','maths':82,'phy':88,'chem':92,'english':80}\n",
    "\n",
    "print(\"Length of the dict  : \", len (myDict))\n",
    "\n",
    "dict2 = myDict.copy()\n",
    "print(\"Copied Dictionary   : \",dict2)\n",
    "\n",
    "keys=myDict.keys()\n",
    "print(\"Dictionary keys     : \",keys)\n",
    "\n",
    "vals=myDict.values()\n",
    "print(\"Dictionary values   : \",vals)"
   ]
  },
  {
   "cell_type": "code",
   "execution_count": null,
   "metadata": {},
   "outputs": [],
   "source": []
  }
 ],
 "metadata": {
  "kernelspec": {
   "display_name": "Python 3",
   "language": "python",
   "name": "python3"
  },
  "language_info": {
   "codemirror_mode": {
    "name": "ipython",
    "version": 3
   },
   "file_extension": ".py",
   "mimetype": "text/x-python",
   "name": "python",
   "nbconvert_exporter": "python",
   "pygments_lexer": "ipython3",
   "version": "3.8.5"
  }
 },
 "nbformat": 4,
 "nbformat_minor": 4
}
